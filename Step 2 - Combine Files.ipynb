{
 "cells": [
  {
   "cell_type": "code",
   "execution_count": 116,
   "metadata": {},
   "outputs": [],
   "source": [
    "import os\n",
    "import pandas as pd\n",
    "import joblib\n",
    "from tqdm import tqdm\n",
    "import datetime\n",
    "from datetime import datetime\n",
    "from bs4 import BeautifulSoup"
   ]
  },
  {
   "cell_type": "code",
   "execution_count": 41,
   "metadata": {},
   "outputs": [
    {
     "name": "stderr",
     "output_type": "stream",
     "text": [
      "100%|██████████████████████████████████████████████████████████████████████████████████| 53/53 [00:37<00:00,  1.41it/s]"
     ]
    },
    {
     "name": "stdout",
     "output_type": "stream",
     "text": [
      "Wall time: 38 s\n"
     ]
    },
    {
     "name": "stderr",
     "output_type": "stream",
     "text": [
      "\n"
     ]
    }
   ],
   "source": [
    "%%time\n",
    "\n",
    "a = pd.DataFrame({'filename1': os.listdir()})\n",
    "b = a.filename1.str.startswith(\"security\")\n",
    "files = list(a[b].filename1)\n",
    "final_df = pd.DataFrame()\n",
    "\n",
    "for file in tqdm(files):\n",
    "    df = joblib.load(file)\n",
    "    if final_df.empty:\n",
    "        final_df = df\n",
    "    else:\n",
    "        final_df = pd.concat([df, final_df])"
   ]
  },
  {
   "cell_type": "code",
   "execution_count": 92,
   "metadata": {},
   "outputs": [
    {
     "data": {
      "text/html": [
       "<div>\n",
       "<style scoped>\n",
       "    .dataframe tbody tr th:only-of-type {\n",
       "        vertical-align: middle;\n",
       "    }\n",
       "\n",
       "    .dataframe tbody tr th {\n",
       "        vertical-align: top;\n",
       "    }\n",
       "\n",
       "    .dataframe thead th {\n",
       "        text-align: right;\n",
       "    }\n",
       "</style>\n",
       "<table border=\"1\" class=\"dataframe\">\n",
       "  <thead>\n",
       "    <tr style=\"text-align: right;\">\n",
       "      <th></th>\n",
       "      <th>title</th>\n",
       "      <th>summary_x</th>\n",
       "      <th>links</th>\n",
       "      <th>link</th>\n",
       "      <th>id</th>\n",
       "      <th>guidislink</th>\n",
       "      <th>published</th>\n",
       "      <th>published_parsed</th>\n",
       "      <th>title_detail.type</th>\n",
       "      <th>title_detail.language</th>\n",
       "      <th>...</th>\n",
       "      <th>authorposts</th>\n",
       "      <th>postcategory</th>\n",
       "      <th>customexcerpt</th>\n",
       "      <th>categories</th>\n",
       "      <th>date</th>\n",
       "      <th>URL</th>\n",
       "      <th>authors_y</th>\n",
       "      <th>keywords</th>\n",
       "      <th>summary_y</th>\n",
       "      <th>text</th>\n",
       "    </tr>\n",
       "  </thead>\n",
       "  <tbody>\n",
       "    <tr>\n",
       "      <th>202</th>\n",
       "      <td>Securing open-source: how Google supports the ...</td>\n",
       "      <td>&lt;span class=\"byline-author\"&gt;Posted by Maya Kac...</td>\n",
       "      <td>[{'rel': 'replies', 'type': 'application/atom+...</td>\n",
       "      <td>http://feedproxy.google.com/~r/GoogleOnlineSec...</td>\n",
       "      <td>tag:blogger.com,1999:blog-1176949257541686127....</td>\n",
       "      <td>True</td>\n",
       "      <td>2020-01-14T09:00:00.000-08:00</td>\n",
       "      <td>(2020, 1, 14, 17, 0, 0, 1, 14, 0)</td>\n",
       "      <td>text/plain</td>\n",
       "      <td>None</td>\n",
       "      <td>...</td>\n",
       "      <td>NaN</td>\n",
       "      <td>NaN</td>\n",
       "      <td>NaN</td>\n",
       "      <td>NaN</td>\n",
       "      <td>None</td>\n",
       "      <td>http://feedproxy.google.com/~r/GoogleOnlineSec...</td>\n",
       "      <td>[Posted Maya Kaczorowski, Product Manager, Con...</td>\n",
       "      <td>[bug, securing, program, kubernetes, google, b...</td>\n",
       "      <td>What kind of bugs does the bounty program reco...</td>\n",
       "      <td>What kind of bugs does the bounty program reco...</td>\n",
       "    </tr>\n",
       "    <tr>\n",
       "      <th>101</th>\n",
       "      <td>Why DevSecOps Is Critical for Containers and K...</td>\n",
       "      <td>DevSecOps is a big and sometimes difficult shi...</td>\n",
       "      <td>[{'rel': 'alternate', 'type': 'text/html', 'hr...</td>\n",
       "      <td>https://www.darkreading.com/cloud/why-devsecop...</td>\n",
       "      <td>https://www.darkreading.com/cloud/why-devsecop...</td>\n",
       "      <td>False</td>\n",
       "      <td>Fri, 08 May 2020 10:00:00 EDT</td>\n",
       "      <td>(2020, 5, 8, 14, 0, 0, 4, 129, 0)</td>\n",
       "      <td>text/plain</td>\n",
       "      <td>None</td>\n",
       "      <td>...</td>\n",
       "      <td>NaN</td>\n",
       "      <td>NaN</td>\n",
       "      <td>NaN</td>\n",
       "      <td>NaN</td>\n",
       "      <td>None</td>\n",
       "      <td>https://www.darkreading.com/cloud/why-devsecop...</td>\n",
       "      <td>[]</td>\n",
       "      <td>[devsecops, team, model, containers, critical,...</td>\n",
       "      <td>Why DevSecOps Is Critical for Containers and K...</td>\n",
       "      <td>Why DevSecOps Is Critical for Containers and K...</td>\n",
       "    </tr>\n",
       "  </tbody>\n",
       "</table>\n",
       "<p>2 rows × 53 columns</p>\n",
       "</div>"
      ],
      "text/plain": [
       "                                                 title  \\\n",
       "202  Securing open-source: how Google supports the ...   \n",
       "101  Why DevSecOps Is Critical for Containers and K...   \n",
       "\n",
       "                                             summary_x  \\\n",
       "202  <span class=\"byline-author\">Posted by Maya Kac...   \n",
       "101  DevSecOps is a big and sometimes difficult shi...   \n",
       "\n",
       "                                                 links  \\\n",
       "202  [{'rel': 'replies', 'type': 'application/atom+...   \n",
       "101  [{'rel': 'alternate', 'type': 'text/html', 'hr...   \n",
       "\n",
       "                                                  link  \\\n",
       "202  http://feedproxy.google.com/~r/GoogleOnlineSec...   \n",
       "101  https://www.darkreading.com/cloud/why-devsecop...   \n",
       "\n",
       "                                                    id guidislink  \\\n",
       "202  tag:blogger.com,1999:blog-1176949257541686127....       True   \n",
       "101  https://www.darkreading.com/cloud/why-devsecop...      False   \n",
       "\n",
       "                         published                   published_parsed  \\\n",
       "202  2020-01-14T09:00:00.000-08:00  (2020, 1, 14, 17, 0, 0, 1, 14, 0)   \n",
       "101  Fri, 08 May 2020 10:00:00 EDT  (2020, 5, 8, 14, 0, 0, 4, 129, 0)   \n",
       "\n",
       "    title_detail.type title_detail.language  ... authorposts postcategory  \\\n",
       "202        text/plain                  None  ...         NaN          NaN   \n",
       "101        text/plain                  None  ...         NaN          NaN   \n",
       "\n",
       "    customexcerpt categories  date  \\\n",
       "202           NaN        NaN  None   \n",
       "101           NaN        NaN  None   \n",
       "\n",
       "                                                   URL  \\\n",
       "202  http://feedproxy.google.com/~r/GoogleOnlineSec...   \n",
       "101  https://www.darkreading.com/cloud/why-devsecop...   \n",
       "\n",
       "                                             authors_y  \\\n",
       "202  [Posted Maya Kaczorowski, Product Manager, Con...   \n",
       "101                                                 []   \n",
       "\n",
       "                                              keywords  \\\n",
       "202  [bug, securing, program, kubernetes, google, b...   \n",
       "101  [devsecops, team, model, containers, critical,...   \n",
       "\n",
       "                                             summary_y  \\\n",
       "202  What kind of bugs does the bounty program reco...   \n",
       "101  Why DevSecOps Is Critical for Containers and K...   \n",
       "\n",
       "                                                  text  \n",
       "202  What kind of bugs does the bounty program reco...  \n",
       "101  Why DevSecOps Is Critical for Containers and K...  \n",
       "\n",
       "[2 rows x 53 columns]"
      ]
     },
     "execution_count": 92,
     "metadata": {},
     "output_type": "execute_result"
    }
   ],
   "source": [
    "final_df.sample(2)"
   ]
  },
  {
   "cell_type": "code",
   "execution_count": 93,
   "metadata": {},
   "outputs": [
    {
     "data": {
      "text/plain": [
       "19735"
      ]
     },
     "execution_count": 93,
     "metadata": {},
     "output_type": "execute_result"
    }
   ],
   "source": [
    "sum(list(final_df.URL == final_df.link))"
   ]
  },
  {
   "cell_type": "code",
   "execution_count": 94,
   "metadata": {},
   "outputs": [],
   "source": [
    "final_df2 = final_df[['title', 'summary_x', 'URL', 'published', 'keywords', 'summary_y', 'text' ]]"
   ]
  },
  {
   "cell_type": "markdown",
   "metadata": {},
   "source": [
    "------"
   ]
  },
  {
   "cell_type": "code",
   "execution_count": null,
   "metadata": {},
   "outputs": [],
   "source": []
  },
  {
   "cell_type": "code",
   "execution_count": 95,
   "metadata": {},
   "outputs": [
    {
     "name": "stderr",
     "output_type": "stream",
     "text": [
      "C:\\Users\\user\\Anaconda3\\lib\\site-packages\\pandas\\core\\generic.py:5303: SettingWithCopyWarning: \n",
      "A value is trying to be set on a copy of a slice from a DataFrame.\n",
      "Try using .loc[row_indexer,col_indexer] = value instead\n",
      "\n",
      "See the caveats in the documentation: https://pandas.pydata.org/pandas-docs/stable/user_guide/indexing.html#returning-a-view-versus-a-copy\n",
      "  self[name] = value\n"
     ]
    }
   ],
   "source": [
    "# the column 'published' has the time string.  Convert to datetime, as a timezone aware entry. \n",
    "# Fix EDT and PDT in advance\n",
    "\n",
    "t1 = final_df2.published.apply(str)\n",
    "t1 = [x.replace('EDT', '-0400') for x in t1]\n",
    "t1 = [x.replace('PDT', '-0700') for x in t1]\n",
    "t1 = [(pd.to_datetime(x)) for x in t1]\n",
    "final_df2.published = t1"
   ]
  },
  {
   "cell_type": "code",
   "execution_count": 96,
   "metadata": {},
   "outputs": [],
   "source": [
    "# Write a function to get just the data and time without timezone so it can be exported to Excel\n",
    "\n",
    "def no_timezone(time_string):\n",
    "    try:\n",
    "        no_tz = datetime.strftime(time_string, \"%Y-%m-%d %H:%M:%S\")\n",
    "    except:\n",
    "        no_tz = 0\n",
    "    return no_tz"
   ]
  },
  {
   "cell_type": "code",
   "execution_count": 97,
   "metadata": {},
   "outputs": [
    {
     "name": "stderr",
     "output_type": "stream",
     "text": [
      "C:\\Users\\user\\Anaconda3\\lib\\site-packages\\ipykernel_launcher.py:2: SettingWithCopyWarning: \n",
      "A value is trying to be set on a copy of a slice from a DataFrame.\n",
      "Try using .loc[row_indexer,col_indexer] = value instead\n",
      "\n",
      "See the caveats in the documentation: https://pandas.pydata.org/pandas-docs/stable/user_guide/indexing.html#returning-a-view-versus-a-copy\n",
      "  \n",
      "C:\\Users\\user\\Anaconda3\\lib\\site-packages\\pandas\\core\\frame.py:3997: SettingWithCopyWarning: \n",
      "A value is trying to be set on a copy of a slice from a DataFrame\n",
      "\n",
      "See the caveats in the documentation: https://pandas.pydata.org/pandas-docs/stable/user_guide/indexing.html#returning-a-view-versus-a-copy\n",
      "  errors=errors,\n"
     ]
    }
   ],
   "source": [
    "# Get the published date (no timezone) in a new column\n",
    "final_df2['published_date'] = final_df2.published.apply(no_timezone)\n",
    "\n",
    "# Drop the published column \n",
    "final_df2.drop(columns = ['published'], inplace = True)"
   ]
  },
  {
   "cell_type": "code",
   "execution_count": null,
   "metadata": {},
   "outputs": [],
   "source": []
  },
  {
   "cell_type": "code",
   "execution_count": null,
   "metadata": {},
   "outputs": [],
   "source": []
  },
  {
   "cell_type": "code",
   "execution_count": 98,
   "metadata": {},
   "outputs": [
    {
     "data": {
      "text/plain": [
       "19735"
      ]
     },
     "execution_count": 98,
     "metadata": {},
     "output_type": "execute_result"
    }
   ],
   "source": [
    "len(final_df2)"
   ]
  },
  {
   "cell_type": "code",
   "execution_count": 99,
   "metadata": {},
   "outputs": [
    {
     "data": {
      "text/html": [
       "<div>\n",
       "<style scoped>\n",
       "    .dataframe tbody tr th:only-of-type {\n",
       "        vertical-align: middle;\n",
       "    }\n",
       "\n",
       "    .dataframe tbody tr th {\n",
       "        vertical-align: top;\n",
       "    }\n",
       "\n",
       "    .dataframe thead th {\n",
       "        text-align: right;\n",
       "    }\n",
       "</style>\n",
       "<table border=\"1\" class=\"dataframe\">\n",
       "  <thead>\n",
       "    <tr style=\"text-align: right;\">\n",
       "      <th></th>\n",
       "      <th>title</th>\n",
       "      <th>summary_x</th>\n",
       "      <th>URL</th>\n",
       "      <th>keywords</th>\n",
       "      <th>summary_y</th>\n",
       "      <th>text</th>\n",
       "      <th>published_date</th>\n",
       "    </tr>\n",
       "  </thead>\n",
       "  <tbody>\n",
       "    <tr>\n",
       "      <th>320</th>\n",
       "      <td>5 risk management mistakes CISOs still make</td>\n",
       "      <td>&lt;p&gt;Corporate leaders now rank cybersecurity as...</td>\n",
       "      <td>https://www.csoonline.com/article/3538288/5-ri...</td>\n",
       "      <td>[respondents, cyber, theyre, say, management, ...</td>\n",
       "      <td>Corporate leaders now rank cybersecurity as a ...</td>\n",
       "      <td>Corporate leaders now rank cybersecurity as a ...</td>\n",
       "      <td>2020-05-04 03:00:00</td>\n",
       "    </tr>\n",
       "    <tr>\n",
       "      <th>46</th>\n",
       "      <td>Hackers Exploit Critical Flaw in Ghost Platfor...</td>\n",
       "      <td>Hackers targeted Ghost on Sunday, in a cryptoc...</td>\n",
       "      <td>https://threatpost.com/hackers-exploit-critica...</td>\n",
       "      <td>[threatpost, exploit, servers, flaw, attack, p...</td>\n",
       "      <td>Hackers targeted the publishing platform Ghost...</td>\n",
       "      <td>Hackers targeted the publishing platform Ghost...</td>\n",
       "      <td>2020-05-04 19:23:41</td>\n",
       "    </tr>\n",
       "    <tr>\n",
       "      <th>248</th>\n",
       "      <td>Rapid Change is the New Normal</td>\n",
       "      <td>&lt;p style=\"text-align: center;\"&gt;&lt;strong&gt;&lt;span s...</td>\n",
       "      <td>http://feedproxy.google.com/~r/Securityweek/~3...</td>\n",
       "      <td>[normal, rapid, networking, need, change, remo...</td>\n",
       "      <td>And given the rapid pace at which these change...</td>\n",
       "      <td>Change is the New Normal, and it is Coming at ...</td>\n",
       "      <td>2020-04-23 16:24:25</td>\n",
       "    </tr>\n",
       "    <tr>\n",
       "      <th>148</th>\n",
       "      <td>Thoughts on OSSEC Con 2019</td>\n",
       "      <td>&lt;div class=\"separator\" style=\"clear: both; tex...</td>\n",
       "      <td>https://taosecurity.blogspot.com/2019/03/thoug...</td>\n",
       "      <td>[thoughts, ossec, taosecurity, 2019]</td>\n",
       "      <td></td>\n",
       "      <td></td>\n",
       "      <td>2019-03-28 16:40:00</td>\n",
       "    </tr>\n",
       "    <tr>\n",
       "      <th>357</th>\n",
       "      <td>The global AI agenda: Asia-Pacific</td>\n",
       "      <td>This report is part of “The global AI agenda,”...</td>\n",
       "      <td>https://www.technologyreview.com/2020/04/23/10...</td>\n",
       "      <td>[agenda, main, organizations, challenges, usin...</td>\n",
       "      <td>This report is part of “The global AI agenda,”...</td>\n",
       "      <td>This report is part of “The global AI agenda,”...</td>\n",
       "      <td>2020-04-23 10:00:00</td>\n",
       "    </tr>\n",
       "  </tbody>\n",
       "</table>\n",
       "</div>"
      ],
      "text/plain": [
       "                                                 title  \\\n",
       "320        5 risk management mistakes CISOs still make   \n",
       "46   Hackers Exploit Critical Flaw in Ghost Platfor...   \n",
       "248                     Rapid Change is the New Normal   \n",
       "148                         Thoughts on OSSEC Con 2019   \n",
       "357                 The global AI agenda: Asia-Pacific   \n",
       "\n",
       "                                             summary_x  \\\n",
       "320  <p>Corporate leaders now rank cybersecurity as...   \n",
       "46   Hackers targeted Ghost on Sunday, in a cryptoc...   \n",
       "248  <p style=\"text-align: center;\"><strong><span s...   \n",
       "148  <div class=\"separator\" style=\"clear: both; tex...   \n",
       "357  This report is part of “The global AI agenda,”...   \n",
       "\n",
       "                                                   URL  \\\n",
       "320  https://www.csoonline.com/article/3538288/5-ri...   \n",
       "46   https://threatpost.com/hackers-exploit-critica...   \n",
       "248  http://feedproxy.google.com/~r/Securityweek/~3...   \n",
       "148  https://taosecurity.blogspot.com/2019/03/thoug...   \n",
       "357  https://www.technologyreview.com/2020/04/23/10...   \n",
       "\n",
       "                                              keywords  \\\n",
       "320  [respondents, cyber, theyre, say, management, ...   \n",
       "46   [threatpost, exploit, servers, flaw, attack, p...   \n",
       "248  [normal, rapid, networking, need, change, remo...   \n",
       "148               [thoughts, ossec, taosecurity, 2019]   \n",
       "357  [agenda, main, organizations, challenges, usin...   \n",
       "\n",
       "                                             summary_y  \\\n",
       "320  Corporate leaders now rank cybersecurity as a ...   \n",
       "46   Hackers targeted the publishing platform Ghost...   \n",
       "248  And given the rapid pace at which these change...   \n",
       "148                                                      \n",
       "357  This report is part of “The global AI agenda,”...   \n",
       "\n",
       "                                                  text       published_date  \n",
       "320  Corporate leaders now rank cybersecurity as a ...  2020-05-04 03:00:00  \n",
       "46   Hackers targeted the publishing platform Ghost...  2020-05-04 19:23:41  \n",
       "248  Change is the New Normal, and it is Coming at ...  2020-04-23 16:24:25  \n",
       "148                                                     2019-03-28 16:40:00  \n",
       "357  This report is part of “The global AI agenda,”...  2020-04-23 10:00:00  "
      ]
     },
     "execution_count": 99,
     "metadata": {},
     "output_type": "execute_result"
    }
   ],
   "source": [
    "final_df2.sample(5)"
   ]
  },
  {
   "cell_type": "code",
   "execution_count": 9,
   "metadata": {},
   "outputs": [],
   "source": [
    "# print((final_df2.applymap(type) == list).all())"
   ]
  },
  {
   "cell_type": "code",
   "execution_count": 10,
   "metadata": {},
   "outputs": [],
   "source": [
    "# print(final_df2.applymap(type))"
   ]
  },
  {
   "cell_type": "code",
   "execution_count": 11,
   "metadata": {},
   "outputs": [],
   "source": [
    "# a = ['one', 'two', 'three']\n",
    "# b = ','.join(a)"
   ]
  },
  {
   "cell_type": "code",
   "execution_count": 100,
   "metadata": {},
   "outputs": [
    {
     "name": "stderr",
     "output_type": "stream",
     "text": [
      "C:\\Users\\user\\Anaconda3\\lib\\site-packages\\pandas\\core\\generic.py:5303: SettingWithCopyWarning: \n",
      "A value is trying to be set on a copy of a slice from a DataFrame.\n",
      "Try using .loc[row_indexer,col_indexer] = value instead\n",
      "\n",
      "See the caveats in the documentation: https://pandas.pydata.org/pandas-docs/stable/user_guide/indexing.html#returning-a-view-versus-a-copy\n",
      "  self[name] = value\n"
     ]
    }
   ],
   "source": [
    "\n",
    "final_df2.keywords = [','.join(a) for a in final_df2.keywords.copy(deep=True)]"
   ]
  },
  {
   "cell_type": "code",
   "execution_count": 101,
   "metadata": {},
   "outputs": [
    {
     "name": "stdout",
     "output_type": "stream",
     "text": [
      "Length before drop_duplicates 19735\n",
      "Length after drop_duplicates 18748\n"
     ]
    }
   ],
   "source": [
    "print('Length before drop_duplicates', len(final_df2))\n",
    "final_df2 = final_df2.drop_duplicates()\n",
    "print('Length after drop_duplicates', len(final_df2))\n"
   ]
  },
  {
   "cell_type": "code",
   "execution_count": 102,
   "metadata": {},
   "outputs": [
    {
     "data": {
      "text/plain": [
       "5153"
      ]
     },
     "execution_count": 102,
     "metadata": {},
     "output_type": "execute_result"
    }
   ],
   "source": [
    "final_df2.text.nunique()\n",
    "# final_df2.text2=final_df2.text"
   ]
  },
  {
   "cell_type": "code",
   "execution_count": 103,
   "metadata": {},
   "outputs": [
    {
     "name": "stdout",
     "output_type": "stream",
     "text": [
      "5153 articles in final_df3\n"
     ]
    }
   ],
   "source": [
    "final_df3 = final_df2.groupby('text').head(1)\n",
    "print(len(final_df3), 'articles in final_df3')"
   ]
  },
  {
   "cell_type": "code",
   "execution_count": 124,
   "metadata": {},
   "outputs": [],
   "source": [
    "final_df3.reset_index(drop=True, inplace=True)"
   ]
  },
  {
   "cell_type": "code",
   "execution_count": 125,
   "metadata": {},
   "outputs": [
    {
     "data": {
      "text/html": [
       "<div>\n",
       "<style scoped>\n",
       "    .dataframe tbody tr th:only-of-type {\n",
       "        vertical-align: middle;\n",
       "    }\n",
       "\n",
       "    .dataframe tbody tr th {\n",
       "        vertical-align: top;\n",
       "    }\n",
       "\n",
       "    .dataframe thead th {\n",
       "        text-align: right;\n",
       "    }\n",
       "</style>\n",
       "<table border=\"1\" class=\"dataframe\">\n",
       "  <thead>\n",
       "    <tr style=\"text-align: right;\">\n",
       "      <th></th>\n",
       "      <th>title</th>\n",
       "      <th>summary_x</th>\n",
       "      <th>URL</th>\n",
       "      <th>keywords</th>\n",
       "      <th>summary_y</th>\n",
       "      <th>text</th>\n",
       "      <th>published_date</th>\n",
       "      <th>corona</th>\n",
       "    </tr>\n",
       "  </thead>\n",
       "  <tbody>\n",
       "    <tr>\n",
       "      <th>0</th>\n",
       "      <td>Friday Squid Blogging: Fishing for Jumbo Squid</td>\n",
       "      <td>Interesting article on the rise of the jumbo s...</td>\n",
       "      <td>https://www.schneier.com/blog/archives/2020/06...</td>\n",
       "      <td>schneier,usual,squidinteresting,post,jumbo,res...</td>\n",
       "      <td>Friday Squid Blogging: Fishing for Jumbo Squid...</td>\n",
       "      <td>Friday Squid Blogging: Fishing for Jumbo Squid...</td>\n",
       "      <td>2020-06-26 20:57:09</td>\n",
       "      <td>False</td>\n",
       "    </tr>\n",
       "    <tr>\n",
       "      <th>1</th>\n",
       "      <td>The Unintended Harms of Cybersecurity</td>\n",
       "      <td>Interesting research: \"Identifying Unintended ...</td>\n",
       "      <td>https://www.schneier.com/blog/archives/2020/06...</td>\n",
       "      <td>services,schneier,user,preemptively,consequenc...</td>\n",
       "      <td>Interesting research: \"Identifying Unintended ...</td>\n",
       "      <td>Interesting research: \"Identifying Unintended ...</td>\n",
       "      <td>2020-06-26 12:00:59</td>\n",
       "      <td>False</td>\n",
       "    </tr>\n",
       "    <tr>\n",
       "      <th>2</th>\n",
       "      <td>Analyzing IoT Security Best Practices</td>\n",
       "      <td>New research: \"Best Practices for IoT Security...</td>\n",
       "      <td>https://www.schneier.com/blog/archives/2020/06...</td>\n",
       "      <td>schneier,practices,follow,guidelines,research,...</td>\n",
       "      <td>Analyzing IoT Security Best PracticesNew resea...</td>\n",
       "      <td>Analyzing IoT Security Best Practices\\n\\nNew r...</td>\n",
       "      <td>2020-06-25 12:09:36</td>\n",
       "      <td>False</td>\n",
       "    </tr>\n",
       "    <tr>\n",
       "      <th>3</th>\n",
       "      <td>COVID-19 Risks of Flying</td>\n",
       "      <td>I fly a lot. Over the past five years, my aver...</td>\n",
       "      <td>https://www.schneier.com/blog/archives/2020/06...</td>\n",
       "      <td>lot,schneier,trying,think,risks,mask,wearing,t...</td>\n",
       "      <td>This is all a prelude to saying that I have be...</td>\n",
       "      <td>COVID-19 Risks of Flying\\n\\nI fly a lot. Over ...</td>\n",
       "      <td>2020-06-24 17:32:30</td>\n",
       "      <td>True</td>\n",
       "    </tr>\n",
       "    <tr>\n",
       "      <th>4</th>\n",
       "      <td>Cryptocurrency Pump and Dump Scams</td>\n",
       "      <td>Really interesting research: \"An examination o...</td>\n",
       "      <td>https://www.schneier.com/blog/archives/2020/06...</td>\n",
       "      <td>schneier,pumps,discord,schemes,pump,cryptocurr...</td>\n",
       "      <td>Really interesting research: \"An examination o...</td>\n",
       "      <td>Really interesting research: \"An examination o...</td>\n",
       "      <td>2020-06-24 11:30:32</td>\n",
       "      <td>False</td>\n",
       "    </tr>\n",
       "    <tr>\n",
       "      <th>...</th>\n",
       "      <td>...</td>\n",
       "      <td>...</td>\n",
       "      <td>...</td>\n",
       "      <td>...</td>\n",
       "      <td>...</td>\n",
       "      <td>...</td>\n",
       "      <td>...</td>\n",
       "      <td>...</td>\n",
       "    </tr>\n",
       "    <tr>\n",
       "      <th>5148</th>\n",
       "      <td>Amazon confirms a major outbreak of COVID-19 a...</td>\n",
       "      <td>&lt;A HREF=\"https://www.businessinsider.com/amazo...</td>\n",
       "      <td>http://www.techmeme.com/200423/p38#a200423p38</td>\n",
       "      <td>video,past,security,warehouse,outbreak,surge,z...</td>\n",
       "      <td>— Zoom Video Communications Inc. has been lamb...</td>\n",
       "      <td>— Zoom Video Communications Inc. has been lamb...</td>\n",
       "      <td>2020-04-23 19:55:23</td>\n",
       "      <td>False</td>\n",
       "    </tr>\n",
       "    <tr>\n",
       "      <th>5149</th>\n",
       "      <td>The coronavirus is accelerating the shift to a...</td>\n",
       "      <td>&lt;A HREF=\"https://www.ft.com/content/990e89de-8...</td>\n",
       "      <td>http://www.techmeme.com/200423/p33#a200423p33</td>\n",
       "      <td>shift,financial,right,whiteboards,coronavirus,...</td>\n",
       "      <td>— Miro is a company in the right place at the ...</td>\n",
       "      <td>— Miro is a company in the right place at the ...</td>\n",
       "      <td>2020-04-23 17:30:02</td>\n",
       "      <td>False</td>\n",
       "    </tr>\n",
       "    <tr>\n",
       "      <th>5150</th>\n",
       "      <td>Doctors are using AI to triage covid-19 patien...</td>\n",
       "      <td>Rizwan Malik had always had an interest in AI....</td>\n",
       "      <td>https://www.technologyreview.com/2020/04/23/10...</td>\n",
       "      <td>pandemic,health,system,triage,using,coronaviru...</td>\n",
       "      <td>The pandemic, in other words, has turned into ...</td>\n",
       "      <td>The Royal Bolton Hospital is among a growing n...</td>\n",
       "      <td>2020-04-23 14:00:00</td>\n",
       "      <td>True</td>\n",
       "    </tr>\n",
       "    <tr>\n",
       "      <th>5151</th>\n",
       "      <td>The race to save the first draft of coronaviru...</td>\n",
       "      <td>Eight years ago, Suleika Jaouad was alone in a...</td>\n",
       "      <td>https://www.technologyreview.com/2020/04/21/99...</td>\n",
       "      <td>save,pandemic,life,internet,history,coronaviru...</td>\n",
       "      <td>But getting the internet to archive as much as...</td>\n",
       "      <td>Within a week, Blair’s tweet got the attention...</td>\n",
       "      <td>2020-04-21 09:00:00</td>\n",
       "      <td>True</td>\n",
       "    </tr>\n",
       "    <tr>\n",
       "      <th>5152</th>\n",
       "      <td>The US needs to do 20 million tests a day to r...</td>\n",
       "      <td>The news: A group of experts has produced a pl...</td>\n",
       "      <td>https://www.technologyreview.com/2020/04/20/10...</td>\n",
       "      <td>safely,way,day,20,plan,million,test,reopen,tes...</td>\n",
       "      <td>The news: A group of experts has produced a pl...</td>\n",
       "      <td>The news: A group of experts has produced a pl...</td>\n",
       "      <td>2020-04-20 10:40:47</td>\n",
       "      <td>True</td>\n",
       "    </tr>\n",
       "  </tbody>\n",
       "</table>\n",
       "<p>5153 rows × 8 columns</p>\n",
       "</div>"
      ],
      "text/plain": [
       "                                                  title  \\\n",
       "0        Friday Squid Blogging: Fishing for Jumbo Squid   \n",
       "1                 The Unintended Harms of Cybersecurity   \n",
       "2                 Analyzing IoT Security Best Practices   \n",
       "3                              COVID-19 Risks of Flying   \n",
       "4                    Cryptocurrency Pump and Dump Scams   \n",
       "...                                                 ...   \n",
       "5148  Amazon confirms a major outbreak of COVID-19 a...   \n",
       "5149  The coronavirus is accelerating the shift to a...   \n",
       "5150  Doctors are using AI to triage covid-19 patien...   \n",
       "5151  The race to save the first draft of coronaviru...   \n",
       "5152  The US needs to do 20 million tests a day to r...   \n",
       "\n",
       "                                              summary_x  \\\n",
       "0     Interesting article on the rise of the jumbo s...   \n",
       "1     Interesting research: \"Identifying Unintended ...   \n",
       "2     New research: \"Best Practices for IoT Security...   \n",
       "3     I fly a lot. Over the past five years, my aver...   \n",
       "4     Really interesting research: \"An examination o...   \n",
       "...                                                 ...   \n",
       "5148  <A HREF=\"https://www.businessinsider.com/amazo...   \n",
       "5149  <A HREF=\"https://www.ft.com/content/990e89de-8...   \n",
       "5150  Rizwan Malik had always had an interest in AI....   \n",
       "5151  Eight years ago, Suleika Jaouad was alone in a...   \n",
       "5152  The news: A group of experts has produced a pl...   \n",
       "\n",
       "                                                    URL  \\\n",
       "0     https://www.schneier.com/blog/archives/2020/06...   \n",
       "1     https://www.schneier.com/blog/archives/2020/06...   \n",
       "2     https://www.schneier.com/blog/archives/2020/06...   \n",
       "3     https://www.schneier.com/blog/archives/2020/06...   \n",
       "4     https://www.schneier.com/blog/archives/2020/06...   \n",
       "...                                                 ...   \n",
       "5148      http://www.techmeme.com/200423/p38#a200423p38   \n",
       "5149      http://www.techmeme.com/200423/p33#a200423p33   \n",
       "5150  https://www.technologyreview.com/2020/04/23/10...   \n",
       "5151  https://www.technologyreview.com/2020/04/21/99...   \n",
       "5152  https://www.technologyreview.com/2020/04/20/10...   \n",
       "\n",
       "                                               keywords  \\\n",
       "0     schneier,usual,squidinteresting,post,jumbo,res...   \n",
       "1     services,schneier,user,preemptively,consequenc...   \n",
       "2     schneier,practices,follow,guidelines,research,...   \n",
       "3     lot,schneier,trying,think,risks,mask,wearing,t...   \n",
       "4     schneier,pumps,discord,schemes,pump,cryptocurr...   \n",
       "...                                                 ...   \n",
       "5148  video,past,security,warehouse,outbreak,surge,z...   \n",
       "5149  shift,financial,right,whiteboards,coronavirus,...   \n",
       "5150  pandemic,health,system,triage,using,coronaviru...   \n",
       "5151  save,pandemic,life,internet,history,coronaviru...   \n",
       "5152  safely,way,day,20,plan,million,test,reopen,tes...   \n",
       "\n",
       "                                              summary_y  \\\n",
       "0     Friday Squid Blogging: Fishing for Jumbo Squid...   \n",
       "1     Interesting research: \"Identifying Unintended ...   \n",
       "2     Analyzing IoT Security Best PracticesNew resea...   \n",
       "3     This is all a prelude to saying that I have be...   \n",
       "4     Really interesting research: \"An examination o...   \n",
       "...                                                 ...   \n",
       "5148  — Zoom Video Communications Inc. has been lamb...   \n",
       "5149  — Miro is a company in the right place at the ...   \n",
       "5150  The pandemic, in other words, has turned into ...   \n",
       "5151  But getting the internet to archive as much as...   \n",
       "5152  The news: A group of experts has produced a pl...   \n",
       "\n",
       "                                                   text       published_date  \\\n",
       "0     Friday Squid Blogging: Fishing for Jumbo Squid...  2020-06-26 20:57:09   \n",
       "1     Interesting research: \"Identifying Unintended ...  2020-06-26 12:00:59   \n",
       "2     Analyzing IoT Security Best Practices\\n\\nNew r...  2020-06-25 12:09:36   \n",
       "3     COVID-19 Risks of Flying\\n\\nI fly a lot. Over ...  2020-06-24 17:32:30   \n",
       "4     Really interesting research: \"An examination o...  2020-06-24 11:30:32   \n",
       "...                                                 ...                  ...   \n",
       "5148  — Zoom Video Communications Inc. has been lamb...  2020-04-23 19:55:23   \n",
       "5149  — Miro is a company in the right place at the ...  2020-04-23 17:30:02   \n",
       "5150  The Royal Bolton Hospital is among a growing n...  2020-04-23 14:00:00   \n",
       "5151  Within a week, Blair’s tweet got the attention...  2020-04-21 09:00:00   \n",
       "5152  The news: A group of experts has produced a pl...  2020-04-20 10:40:47   \n",
       "\n",
       "      corona  \n",
       "0      False  \n",
       "1      False  \n",
       "2      False  \n",
       "3       True  \n",
       "4      False  \n",
       "...      ...  \n",
       "5148   False  \n",
       "5149   False  \n",
       "5150    True  \n",
       "5151    True  \n",
       "5152    True  \n",
       "\n",
       "[5153 rows x 8 columns]"
      ]
     },
     "execution_count": 125,
     "metadata": {},
     "output_type": "execute_result"
    }
   ],
   "source": [
    "final_df3\n"
   ]
  },
  {
   "cell_type": "code",
   "execution_count": 126,
   "metadata": {},
   "outputs": [
    {
     "data": {
      "text/html": [
       "<div>\n",
       "<style scoped>\n",
       "    .dataframe tbody tr th:only-of-type {\n",
       "        vertical-align: middle;\n",
       "    }\n",
       "\n",
       "    .dataframe tbody tr th {\n",
       "        vertical-align: top;\n",
       "    }\n",
       "\n",
       "    .dataframe thead th {\n",
       "        text-align: right;\n",
       "    }\n",
       "</style>\n",
       "<table border=\"1\" class=\"dataframe\">\n",
       "  <thead>\n",
       "    <tr style=\"text-align: right;\">\n",
       "      <th></th>\n",
       "      <th>title</th>\n",
       "      <th>summary_x</th>\n",
       "      <th>URL</th>\n",
       "      <th>keywords</th>\n",
       "      <th>summary_y</th>\n",
       "      <th>text</th>\n",
       "      <th>published_date</th>\n",
       "      <th>corona</th>\n",
       "    </tr>\n",
       "  </thead>\n",
       "  <tbody>\n",
       "    <tr>\n",
       "      <th>3465</th>\n",
       "      <td>Trump threatens to take US out of WHO entirely...</td>\n",
       "      <td>Trump letter blasts WHO's COVID-19 response, s...</td>\n",
       "      <td>https://arstechnica.com/?p=1677161</td>\n",
       "      <td>funding,response,world,organization,threatens,...</td>\n",
       "      <td>President Trump yesterday threatened to perman...</td>\n",
       "      <td>President Trump yesterday threatened to perman...</td>\n",
       "      <td>2020-05-19 17:23:10</td>\n",
       "      <td>True</td>\n",
       "    </tr>\n",
       "    <tr>\n",
       "      <th>2982</th>\n",
       "      <td>Gears of war: When mechanical analog computers...</td>\n",
       "      <td>From the archives: In some ways, new Navy comp...</td>\n",
       "      <td>https://arstechnica.com/?p=421869</td>\n",
       "      <td>mechanical,digital,control,analog,system,syste...</td>\n",
       "      <td>We're talking about electro-mechanical analog ...</td>\n",
       "      <td>Update: We are resurfacing this feature from 2...</td>\n",
       "      <td>2020-05-24 11:46:47</td>\n",
       "      <td>False</td>\n",
       "    </tr>\n",
       "    <tr>\n",
       "      <th>937</th>\n",
       "      <td>India’s Milk Mantra secures $10M from US Inter...</td>\n",
       "      <td>Milk Mantra, a startup that procures, packages...</td>\n",
       "      <td>http://feedproxy.google.com/~r/Techcrunch/~3/n...</td>\n",
       "      <td>international,service,mantra,startup,india,mil...</td>\n",
       "      <td>U.S. International Development Finance Corpora...</td>\n",
       "      <td>Milk Mantra, a startup that procures, packages...</td>\n",
       "      <td>2020-06-19 07:15:45</td>\n",
       "      <td>False</td>\n",
       "    </tr>\n",
       "  </tbody>\n",
       "</table>\n",
       "</div>"
      ],
      "text/plain": [
       "                                                  title  \\\n",
       "3465  Trump threatens to take US out of WHO entirely...   \n",
       "2982  Gears of war: When mechanical analog computers...   \n",
       "937   India’s Milk Mantra secures $10M from US Inter...   \n",
       "\n",
       "                                              summary_x  \\\n",
       "3465  Trump letter blasts WHO's COVID-19 response, s...   \n",
       "2982  From the archives: In some ways, new Navy comp...   \n",
       "937   Milk Mantra, a startup that procures, packages...   \n",
       "\n",
       "                                                    URL  \\\n",
       "3465                 https://arstechnica.com/?p=1677161   \n",
       "2982                  https://arstechnica.com/?p=421869   \n",
       "937   http://feedproxy.google.com/~r/Techcrunch/~3/n...   \n",
       "\n",
       "                                               keywords  \\\n",
       "3465  funding,response,world,organization,threatens,...   \n",
       "2982  mechanical,digital,control,analog,system,syste...   \n",
       "937   international,service,mantra,startup,india,mil...   \n",
       "\n",
       "                                              summary_y  \\\n",
       "3465  President Trump yesterday threatened to perman...   \n",
       "2982  We're talking about electro-mechanical analog ...   \n",
       "937   U.S. International Development Finance Corpora...   \n",
       "\n",
       "                                                   text       published_date  \\\n",
       "3465  President Trump yesterday threatened to perman...  2020-05-19 17:23:10   \n",
       "2982  Update: We are resurfacing this feature from 2...  2020-05-24 11:46:47   \n",
       "937   Milk Mantra, a startup that procures, packages...  2020-06-19 07:15:45   \n",
       "\n",
       "      corona  \n",
       "3465    True  \n",
       "2982   False  \n",
       "937    False  "
      ]
     },
     "execution_count": 126,
     "metadata": {},
     "output_type": "execute_result"
    }
   ],
   "source": [
    "final_df3.sample(3)"
   ]
  },
  {
   "cell_type": "code",
   "execution_count": 105,
   "metadata": {},
   "outputs": [
    {
     "data": {
      "text/plain": [
       "191"
      ]
     },
     "execution_count": 105,
     "metadata": {},
     "output_type": "execute_result"
    }
   ],
   "source": [
    "# sum(final_df3.title.str.contains(\"Corona|corona|coronavirus|covid|Covid|cyber\"))"
   ]
  },
  {
   "cell_type": "code",
   "execution_count": null,
   "metadata": {},
   "outputs": [],
   "source": []
  },
  {
   "cell_type": "code",
   "execution_count": 15,
   "metadata": {},
   "outputs": [
    {
     "data": {
      "text/plain": [
       "['final_df3.pkl']"
      ]
     },
     "execution_count": 15,
     "metadata": {},
     "output_type": "execute_result"
    }
   ],
   "source": [
    "joblib.dump(final_df3, 'final_df3.pkl')"
   ]
  },
  {
   "cell_type": "code",
   "execution_count": 137,
   "metadata": {},
   "outputs": [],
   "source": [
    "final_df3.to_excel('temp.xlsx',index=False)"
   ]
  },
  {
   "cell_type": "code",
   "execution_count": 128,
   "metadata": {},
   "outputs": [],
   "source": [
    "# Define a function for True/False for corona depending on if any of the corona related\n",
    "# strings is found in a piece of text\n",
    "\n",
    "def corona(text):\n",
    "    corona_story_strings = ['covid', 'corona', 'sars', 'virus']\n",
    "    return any(x in text for x in corona_story_strings)\n",
    "    \n",
    "    \n"
   ]
  },
  {
   "cell_type": "code",
   "execution_count": 129,
   "metadata": {},
   "outputs": [
    {
     "name": "stderr",
     "output_type": "stream",
     "text": [
      "C:\\Users\\user\\Anaconda3\\lib\\site-packages\\ipykernel_launcher.py:1: SettingWithCopyWarning: \n",
      "A value is trying to be set on a copy of a slice from a DataFrame.\n",
      "Try using .loc[row_indexer,col_indexer] = value instead\n",
      "\n",
      "See the caveats in the documentation: https://pandas.pydata.org/pandas-docs/stable/user_guide/indexing.html#returning-a-view-versus-a-copy\n",
      "  \"\"\"Entry point for launching an IPython kernel.\n"
     ]
    }
   ],
   "source": [
    "final_df3['corona'] = final_df3.text.apply(corona)"
   ]
  },
  {
   "cell_type": "code",
   "execution_count": 130,
   "metadata": {},
   "outputs": [
    {
     "data": {
      "text/plain": [
       "(5153, 8)"
      ]
     },
     "execution_count": 130,
     "metadata": {},
     "output_type": "execute_result"
    }
   ],
   "source": [
    "final_df3.shape"
   ]
  },
  {
   "cell_type": "code",
   "execution_count": 131,
   "metadata": {},
   "outputs": [
    {
     "data": {
      "text/plain": [
       "False    4037\n",
       "True     1116\n",
       "Name: corona, dtype: int64"
      ]
     },
     "execution_count": 131,
     "metadata": {},
     "output_type": "execute_result"
    }
   ],
   "source": [
    "final_df3.corona.value_counts()"
   ]
  },
  {
   "cell_type": "code",
   "execution_count": 132,
   "metadata": {},
   "outputs": [
    {
     "data": {
      "text/html": [
       "<div>\n",
       "<style scoped>\n",
       "    .dataframe tbody tr th:only-of-type {\n",
       "        vertical-align: middle;\n",
       "    }\n",
       "\n",
       "    .dataframe tbody tr th {\n",
       "        vertical-align: top;\n",
       "    }\n",
       "\n",
       "    .dataframe thead th {\n",
       "        text-align: right;\n",
       "    }\n",
       "</style>\n",
       "<table border=\"1\" class=\"dataframe\">\n",
       "  <thead>\n",
       "    <tr style=\"text-align: right;\">\n",
       "      <th></th>\n",
       "      <th>title</th>\n",
       "      <th>summary_x</th>\n",
       "      <th>URL</th>\n",
       "      <th>keywords</th>\n",
       "      <th>summary_y</th>\n",
       "      <th>text</th>\n",
       "      <th>published_date</th>\n",
       "      <th>corona</th>\n",
       "    </tr>\n",
       "  </thead>\n",
       "  <tbody>\n",
       "    <tr>\n",
       "      <th>3</th>\n",
       "      <td>COVID-19 Risks of Flying</td>\n",
       "      <td>I fly a lot. Over the past five years, my aver...</td>\n",
       "      <td>https://www.schneier.com/blog/archives/2020/06...</td>\n",
       "      <td>lot,schneier,trying,think,risks,mask,wearing,t...</td>\n",
       "      <td>This is all a prelude to saying that I have be...</td>\n",
       "      <td>COVID-19 Risks of Flying\\n\\nI fly a lot. Over ...</td>\n",
       "      <td>2020-06-24 17:32:30</td>\n",
       "      <td>True</td>\n",
       "    </tr>\n",
       "    <tr>\n",
       "      <th>24</th>\n",
       "      <td>France Télévisions group hit by a cyber attack...</td>\n",
       "      <td>&lt;p&gt;The France Télévisions group announced yest...</td>\n",
       "      <td>https://securityaffairs.co/wordpress/105269/ha...</td>\n",
       "      <td>cyber,attack,antennas,impacted,télévisions,hit...</td>\n",
       "      <td>The France Télévisions group announced yesterd...</td>\n",
       "      <td>The France Télévisions group announced yesterd...</td>\n",
       "      <td>2020-06-27 12:11:34</td>\n",
       "      <td>True</td>\n",
       "    </tr>\n",
       "    <tr>\n",
       "      <th>30</th>\n",
       "      <td>Microsoft Again Urges Exchange Server Patch, a...</td>\n",
       "      <td>Microsoft is once again… &lt;a href=\"https://heal...</td>\n",
       "      <td>https://healthitsecurity.com/news/microsoft-ag...</td>\n",
       "      <td>organizations,urges,flaw,resurge,tools,servers...</td>\n",
       "      <td>By Jessica DavisMicrosoft is once again urging...</td>\n",
       "      <td>By Jessica Davis\\n\\nMicrosoft is once again ur...</td>\n",
       "      <td>0</td>\n",
       "      <td>True</td>\n",
       "    </tr>\n",
       "    <tr>\n",
       "      <th>33</th>\n",
       "      <td>3 Key Ways to Bolster Healthcare Cybersecurity...</td>\n",
       "      <td>Throughout the course of… &lt;a href=\"https://hea...</td>\n",
       "      <td>https://healthitsecurity.com/news/3-key-ways-t...</td>\n",
       "      <td>training,organizations,sector,devices,mfa,cybe...</td>\n",
       "      <td>While the number of reported cybersecurity inc...</td>\n",
       "      <td>By Jessica Davis\\n\\nThroughout the course of t...</td>\n",
       "      <td>0</td>\n",
       "      <td>True</td>\n",
       "    </tr>\n",
       "    <tr>\n",
       "      <th>35</th>\n",
       "      <td>DHS CISA: Serious Vulnerabilities Found in 6 M...</td>\n",
       "      <td>The Department of Homeland… &lt;a href=\"https://h...</td>\n",
       "      <td>https://healthitsecurity.com/news/dhs-cisa-ser...</td>\n",
       "      <td>medical,serious,cisa,dhs,vulnerabilities,devic...</td>\n",
       "      <td>If a hacker successfully exploited the flaw wi...</td>\n",
       "      <td>By Jessica Davis\\n\\nThe Department of Homeland...</td>\n",
       "      <td>0</td>\n",
       "      <td>True</td>\n",
       "    </tr>\n",
       "    <tr>\n",
       "      <th>...</th>\n",
       "      <td>...</td>\n",
       "      <td>...</td>\n",
       "      <td>...</td>\n",
       "      <td>...</td>\n",
       "      <td>...</td>\n",
       "      <td>...</td>\n",
       "      <td>...</td>\n",
       "      <td>...</td>\n",
       "    </tr>\n",
       "    <tr>\n",
       "      <th>5146</th>\n",
       "      <td>Nextdoor and Walmart partner on a new neighbor...</td>\n",
       "      <td>Neighborhood social network Nextdoor and Walma...</td>\n",
       "      <td>http://feedproxy.google.com/~r/Techcrunch/~3/_...</td>\n",
       "      <td>offer,groups,feature,nextdoor,help,neighbors,n...</td>\n",
       "      <td>Neighborhood social network Nextdoor and Walma...</td>\n",
       "      <td>Neighborhood social network Nextdoor and Walma...</td>\n",
       "      <td>2020-04-23 16:22:09</td>\n",
       "      <td>True</td>\n",
       "    </tr>\n",
       "    <tr>\n",
       "      <th>5147</th>\n",
       "      <td>Daily Crunch: There’s a major iPhone email sec...</td>\n",
       "      <td>Apple plans to fix an iPhone email security bu...</td>\n",
       "      <td>http://feedproxy.google.com/~r/Techcrunch/~3/a...</td>\n",
       "      <td>google,bug,daily,firm,security,extra,techcrunc...</td>\n",
       "      <td>Apple plans to fix an iPhone email security bu...</td>\n",
       "      <td>Apple plans to fix an iPhone email security bu...</td>\n",
       "      <td>2020-04-23 16:10:28</td>\n",
       "      <td>True</td>\n",
       "    </tr>\n",
       "    <tr>\n",
       "      <th>5150</th>\n",
       "      <td>Doctors are using AI to triage covid-19 patien...</td>\n",
       "      <td>Rizwan Malik had always had an interest in AI....</td>\n",
       "      <td>https://www.technologyreview.com/2020/04/23/10...</td>\n",
       "      <td>pandemic,health,system,triage,using,coronaviru...</td>\n",
       "      <td>The pandemic, in other words, has turned into ...</td>\n",
       "      <td>The Royal Bolton Hospital is among a growing n...</td>\n",
       "      <td>2020-04-23 14:00:00</td>\n",
       "      <td>True</td>\n",
       "    </tr>\n",
       "    <tr>\n",
       "      <th>5151</th>\n",
       "      <td>The race to save the first draft of coronaviru...</td>\n",
       "      <td>Eight years ago, Suleika Jaouad was alone in a...</td>\n",
       "      <td>https://www.technologyreview.com/2020/04/21/99...</td>\n",
       "      <td>save,pandemic,life,internet,history,coronaviru...</td>\n",
       "      <td>But getting the internet to archive as much as...</td>\n",
       "      <td>Within a week, Blair’s tweet got the attention...</td>\n",
       "      <td>2020-04-21 09:00:00</td>\n",
       "      <td>True</td>\n",
       "    </tr>\n",
       "    <tr>\n",
       "      <th>5152</th>\n",
       "      <td>The US needs to do 20 million tests a day to r...</td>\n",
       "      <td>The news: A group of experts has produced a pl...</td>\n",
       "      <td>https://www.technologyreview.com/2020/04/20/10...</td>\n",
       "      <td>safely,way,day,20,plan,million,test,reopen,tes...</td>\n",
       "      <td>The news: A group of experts has produced a pl...</td>\n",
       "      <td>The news: A group of experts has produced a pl...</td>\n",
       "      <td>2020-04-20 10:40:47</td>\n",
       "      <td>True</td>\n",
       "    </tr>\n",
       "  </tbody>\n",
       "</table>\n",
       "<p>1116 rows × 8 columns</p>\n",
       "</div>"
      ],
      "text/plain": [
       "                                                  title  \\\n",
       "3                              COVID-19 Risks of Flying   \n",
       "24    France Télévisions group hit by a cyber attack...   \n",
       "30    Microsoft Again Urges Exchange Server Patch, a...   \n",
       "33    3 Key Ways to Bolster Healthcare Cybersecurity...   \n",
       "35    DHS CISA: Serious Vulnerabilities Found in 6 M...   \n",
       "...                                                 ...   \n",
       "5146  Nextdoor and Walmart partner on a new neighbor...   \n",
       "5147  Daily Crunch: There’s a major iPhone email sec...   \n",
       "5150  Doctors are using AI to triage covid-19 patien...   \n",
       "5151  The race to save the first draft of coronaviru...   \n",
       "5152  The US needs to do 20 million tests a day to r...   \n",
       "\n",
       "                                              summary_x  \\\n",
       "3     I fly a lot. Over the past five years, my aver...   \n",
       "24    <p>The France Télévisions group announced yest...   \n",
       "30    Microsoft is once again… <a href=\"https://heal...   \n",
       "33    Throughout the course of… <a href=\"https://hea...   \n",
       "35    The Department of Homeland… <a href=\"https://h...   \n",
       "...                                                 ...   \n",
       "5146  Neighborhood social network Nextdoor and Walma...   \n",
       "5147  Apple plans to fix an iPhone email security bu...   \n",
       "5150  Rizwan Malik had always had an interest in AI....   \n",
       "5151  Eight years ago, Suleika Jaouad was alone in a...   \n",
       "5152  The news: A group of experts has produced a pl...   \n",
       "\n",
       "                                                    URL  \\\n",
       "3     https://www.schneier.com/blog/archives/2020/06...   \n",
       "24    https://securityaffairs.co/wordpress/105269/ha...   \n",
       "30    https://healthitsecurity.com/news/microsoft-ag...   \n",
       "33    https://healthitsecurity.com/news/3-key-ways-t...   \n",
       "35    https://healthitsecurity.com/news/dhs-cisa-ser...   \n",
       "...                                                 ...   \n",
       "5146  http://feedproxy.google.com/~r/Techcrunch/~3/_...   \n",
       "5147  http://feedproxy.google.com/~r/Techcrunch/~3/a...   \n",
       "5150  https://www.technologyreview.com/2020/04/23/10...   \n",
       "5151  https://www.technologyreview.com/2020/04/21/99...   \n",
       "5152  https://www.technologyreview.com/2020/04/20/10...   \n",
       "\n",
       "                                               keywords  \\\n",
       "3     lot,schneier,trying,think,risks,mask,wearing,t...   \n",
       "24    cyber,attack,antennas,impacted,télévisions,hit...   \n",
       "30    organizations,urges,flaw,resurge,tools,servers...   \n",
       "33    training,organizations,sector,devices,mfa,cybe...   \n",
       "35    medical,serious,cisa,dhs,vulnerabilities,devic...   \n",
       "...                                                 ...   \n",
       "5146  offer,groups,feature,nextdoor,help,neighbors,n...   \n",
       "5147  google,bug,daily,firm,security,extra,techcrunc...   \n",
       "5150  pandemic,health,system,triage,using,coronaviru...   \n",
       "5151  save,pandemic,life,internet,history,coronaviru...   \n",
       "5152  safely,way,day,20,plan,million,test,reopen,tes...   \n",
       "\n",
       "                                              summary_y  \\\n",
       "3     This is all a prelude to saying that I have be...   \n",
       "24    The France Télévisions group announced yesterd...   \n",
       "30    By Jessica DavisMicrosoft is once again urging...   \n",
       "33    While the number of reported cybersecurity inc...   \n",
       "35    If a hacker successfully exploited the flaw wi...   \n",
       "...                                                 ...   \n",
       "5146  Neighborhood social network Nextdoor and Walma...   \n",
       "5147  Apple plans to fix an iPhone email security bu...   \n",
       "5150  The pandemic, in other words, has turned into ...   \n",
       "5151  But getting the internet to archive as much as...   \n",
       "5152  The news: A group of experts has produced a pl...   \n",
       "\n",
       "                                                   text       published_date  \\\n",
       "3     COVID-19 Risks of Flying\\n\\nI fly a lot. Over ...  2020-06-24 17:32:30   \n",
       "24    The France Télévisions group announced yesterd...  2020-06-27 12:11:34   \n",
       "30    By Jessica Davis\\n\\nMicrosoft is once again ur...                    0   \n",
       "33    By Jessica Davis\\n\\nThroughout the course of t...                    0   \n",
       "35    By Jessica Davis\\n\\nThe Department of Homeland...                    0   \n",
       "...                                                 ...                  ...   \n",
       "5146  Neighborhood social network Nextdoor and Walma...  2020-04-23 16:22:09   \n",
       "5147  Apple plans to fix an iPhone email security bu...  2020-04-23 16:10:28   \n",
       "5150  The Royal Bolton Hospital is among a growing n...  2020-04-23 14:00:00   \n",
       "5151  Within a week, Blair’s tweet got the attention...  2020-04-21 09:00:00   \n",
       "5152  The news: A group of experts has produced a pl...  2020-04-20 10:40:47   \n",
       "\n",
       "      corona  \n",
       "3       True  \n",
       "24      True  \n",
       "30      True  \n",
       "33      True  \n",
       "35      True  \n",
       "...      ...  \n",
       "5146    True  \n",
       "5147    True  \n",
       "5150    True  \n",
       "5151    True  \n",
       "5152    True  \n",
       "\n",
       "[1116 rows x 8 columns]"
      ]
     },
     "execution_count": 132,
     "metadata": {},
     "output_type": "execute_result"
    }
   ],
   "source": [
    "final_df3.query('corona == True')"
   ]
  },
  {
   "cell_type": "code",
   "execution_count": 115,
   "metadata": {},
   "outputs": [],
   "source": [
    "final_df3.query('corona == True').to_excel('temp.xlsx')"
   ]
  },
  {
   "cell_type": "code",
   "execution_count": null,
   "metadata": {},
   "outputs": [],
   "source": []
  },
  {
   "cell_type": "code",
   "execution_count": null,
   "metadata": {},
   "outputs": [],
   "source": []
  }
 ],
 "metadata": {
  "kernelspec": {
   "display_name": "Python 3",
   "language": "python",
   "name": "python3"
  },
  "language_info": {
   "codemirror_mode": {
    "name": "ipython",
    "version": 3
   },
   "file_extension": ".py",
   "mimetype": "text/x-python",
   "name": "python",
   "nbconvert_exporter": "python",
   "pygments_lexer": "ipython3",
   "version": "3.7.6"
  }
 },
 "nbformat": 4,
 "nbformat_minor": 4
}
